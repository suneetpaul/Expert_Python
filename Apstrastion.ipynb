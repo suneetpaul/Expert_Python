{
  "nbformat": 4,
  "nbformat_minor": 0,
  "metadata": {
    "colab": {
      "provenance": []
    },
    "kernelspec": {
      "name": "python3",
      "display_name": "Python 3"
    },
    "language_info": {
      "name": "python"
    }
  },
  "cells": [
    {
      "cell_type": "code",
      "execution_count": 1,
      "metadata": {
        "id": "QMFhnvI0E_ow"
      },
      "outputs": [],
      "source": [
        "class Car:\n",
        "  def __init__(self, model, year):\n",
        "    self.model = model\n",
        "    self.year = year\n",
        "\n",
        "\n",
        "class Electic(Car):\n",
        "  def __init__(self, model, year, battery):\n",
        "    super().__init__(model, year)\n",
        "    self.battery = battery"
      ]
    },
    {
      "cell_type": "code",
      "source": [
        "a = Electic('Tesla', 2020, 100)\n",
        "\n",
        "print(f\"{a.model} , {a.year} ,{a.battery}Kw\")\n"
      ],
      "metadata": {
        "colab": {
          "base_uri": "https://localhost:8080/"
        },
        "id": "Vl0iRFIuGXNH",
        "outputId": "410b8544-6aa1-439a-aa21-a2ed37a29871"
      },
      "execution_count": 5,
      "outputs": [
        {
          "output_type": "stream",
          "name": "stdout",
          "text": [
            "Tesla , 2020 ,100Kw\n"
          ]
        }
      ]
    },
    {
      "cell_type": "code",
      "source": [
        "class Book:\n",
        "  def __init__(self, title, author):\n",
        "    self.__title = title\n",
        "    self.__author = author\n",
        "\n",
        "  def display(self):\n",
        "    return(f\"{self.__title} , {self.__author}\")"
      ],
      "metadata": {
        "id": "haCvZedjG1yQ"
      },
      "execution_count": 10,
      "outputs": []
    },
    {
      "cell_type": "code",
      "source": [
        "p = Book('Python', 'Mark')\n",
        "p.display()"
      ],
      "metadata": {
        "colab": {
          "base_uri": "https://localhost:8080/",
          "height": 35
        },
        "id": "xUeoXZ6uG1u3",
        "outputId": "b6e7fc4e-950b-4873-a167-06d43b2d493d"
      },
      "execution_count": 11,
      "outputs": [
        {
          "output_type": "execute_result",
          "data": {
            "text/plain": [
              "'Python , Mark'"
            ],
            "application/vnd.google.colaboratory.intrinsic+json": {
              "type": "string"
            }
          },
          "metadata": {},
          "execution_count": 11
        }
      ]
    },
    {
      "cell_type": "code",
      "source": [
        "class Bird:\n",
        "    def fly(self):\n",
        "        print(\"Birds can fly.\")\n",
        "\n",
        "class Penguin(Bird):\n",
        "    def fly(self):\n",
        "        print(\"Penguins cannot fly.\")\n"
      ],
      "metadata": {
        "id": "R2ERA5WeG1sz"
      },
      "execution_count": 12,
      "outputs": []
    },
    {
      "cell_type": "code",
      "source": [
        "\n",
        "b = Bird()\n",
        "p = Penguin()\n",
        "\n",
        "b.fly()\n",
        "p.fly()"
      ],
      "metadata": {
        "colab": {
          "base_uri": "https://localhost:8080/"
        },
        "id": "f0UXTjLYG1qf",
        "outputId": "c4b70157-984f-4f75-9337-dada7e7cab34"
      },
      "execution_count": 14,
      "outputs": [
        {
          "output_type": "stream",
          "name": "stdout",
          "text": [
            "Birds can fly.\n",
            "Penguins cannot fly.\n"
          ]
        }
      ]
    },
    {
      "cell_type": "code",
      "source": [
        "class Animal:\n",
        "  def __init__(self , make_sound):\n",
        "    self.make_sound = make_sound\n",
        "\n",
        "class Dog(Animal):\n",
        "  def __init__(self,sound):\n",
        "    self.make_sound = sound\n",
        "\n",
        "  def display(self):\n",
        "    return(f\"{self.sound}\")\n",
        "\n",
        "class Cat(Animal):\n",
        "  def __init__(self,sound):\n",
        "    self.make_sound = sound\n",
        "\n",
        "  def display(self):\n",
        "    return(f\"{self.sound}\")\n"
      ],
      "metadata": {
        "id": "RyjLEmEmG1om"
      },
      "execution_count": 25,
      "outputs": []
    },
    {
      "cell_type": "code",
      "source": [
        "a=Animal(\"hello\")"
      ],
      "metadata": {
        "id": "NapOCFeFKKdP"
      },
      "execution_count": 26,
      "outputs": []
    },
    {
      "cell_type": "code",
      "source": [
        "a.make_sound"
      ],
      "metadata": {
        "colab": {
          "base_uri": "https://localhost:8080/",
          "height": 35
        },
        "id": "CDMJmeOtNAUv",
        "outputId": "f1ee6a85-dba0-4684-8748-ef40aa84046a"
      },
      "execution_count": 27,
      "outputs": [
        {
          "output_type": "execute_result",
          "data": {
            "text/plain": [
              "'hello'"
            ],
            "application/vnd.google.colaboratory.intrinsic+json": {
              "type": "string"
            }
          },
          "metadata": {},
          "execution_count": 27
        }
      ]
    },
    {
      "cell_type": "code",
      "source": [
        "d=Dog(\"woof\")"
      ],
      "metadata": {
        "id": "MNPsFO5PNFdd"
      },
      "execution_count": 28,
      "outputs": []
    },
    {
      "cell_type": "code",
      "source": [
        "d.make_sound"
      ],
      "metadata": {
        "colab": {
          "base_uri": "https://localhost:8080/",
          "height": 35
        },
        "id": "DYEq6An-NOK6",
        "outputId": "134ef2d2-aece-4eac-9284-4f2412a06dc9"
      },
      "execution_count": 29,
      "outputs": [
        {
          "output_type": "execute_result",
          "data": {
            "text/plain": [
              "'woof'"
            ],
            "application/vnd.google.colaboratory.intrinsic+json": {
              "type": "string"
            }
          },
          "metadata": {},
          "execution_count": 29
        }
      ]
    },
    {
      "cell_type": "code",
      "source": [
        "c= Cat(\"meow\")"
      ],
      "metadata": {
        "id": "6TxQRRT6NW0k"
      },
      "execution_count": 30,
      "outputs": []
    },
    {
      "cell_type": "code",
      "source": [
        "c.make_sound"
      ],
      "metadata": {
        "colab": {
          "base_uri": "https://localhost:8080/",
          "height": 35
        },
        "id": "0a7q7FLgNbpJ",
        "outputId": "e66a6992-dc83-4860-bbfb-b441aee5b2b0"
      },
      "execution_count": 31,
      "outputs": [
        {
          "output_type": "execute_result",
          "data": {
            "text/plain": [
              "'meow'"
            ],
            "application/vnd.google.colaboratory.intrinsic+json": {
              "type": "string"
            }
          },
          "metadata": {},
          "execution_count": 31
        }
      ]
    },
    {
      "cell_type": "code",
      "source": [
        "l = [\"a\",\"b\",\"c\",\"d\"]\n",
        "d = iter(l)\n",
        "for i in l:\n",
        "  print(next(d))"
      ],
      "metadata": {
        "colab": {
          "base_uri": "https://localhost:8080/"
        },
        "id": "r_a9I2L_KKaV",
        "outputId": "07b04263-5dcb-46a5-878c-c21e9ccbcb4d"
      },
      "execution_count": 15,
      "outputs": [
        {
          "output_type": "stream",
          "name": "stdout",
          "text": [
            "a\n",
            "b\n",
            "c\n",
            "d\n"
          ]
        }
      ]
    },
    {
      "cell_type": "code",
      "source": [],
      "metadata": {
        "id": "zJmrRqjFKKYH"
      },
      "execution_count": null,
      "outputs": []
    }
  ]
}