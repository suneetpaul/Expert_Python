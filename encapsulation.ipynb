{
 "cells": [
  {
   "cell_type": "code",
   "execution_count": 4,
   "metadata": {},
   "outputs": [
    {
     "name": "stdout",
     "output_type": "stream",
     "text": [
      " device: dell  , price : 500000\n"
     ]
    }
   ],
   "source": [
    "class Laptop:\n",
    "    \n",
    "    def __init__(self, device,new_price):\n",
    "        self.__device = device\n",
    "        self.__price = new_price\n",
    "    \n",
    "    def get_price(self):\n",
    "        print(f\" device: {self.__device}  , price : {self.__price}\")\n",
    "\n",
    "def main():\n",
    "    laptop = input(\"device / laptop name \")\n",
    "    price = int(input(\"price of laptop \"))\n",
    "    laptop1 = Laptop(laptop, price)\n",
    "    laptop1.get_price()\n",
    "\n",
    "main()\n",
    "\n"
   ]
  },
  {
   "cell_type": "code",
   "execution_count": null,
   "metadata": {},
   "outputs": [],
   "source": [
    "class Bankacc:\n",
    "    def __init__(self):\n",
    "        self.__balance = 0.0\n",
    "    \n",
    "    def deposit(self, amount):\n",
    "        self.__balance += amount\n",
    "            \n",
    "    \n",
    "    def withdraw(self, amount):\n",
    "        self.__balance -= amount\n",
    "        \n",
    "    \n",
    "    def get_balance(self):\n",
    "       print( self.__balance)\n",
    "\n",
    "\n",
    "\n",
    "\n"
   ]
  },
  {
   "cell_type": "code",
   "execution_count": null,
   "metadata": {},
   "outputs": [
    {
     "name": "stdout",
     "output_type": "stream",
     "text": [
      "your amount is not valida \n",
      "0.0\n"
     ]
    }
   ],
   "source": [
    "\"\"\" def main():\n",
    "    account = Bankacc()\n",
    "    money = float(input(\"money\"))\n",
    "\n",
    "    type = input(\" do u want to deposit, yes else no \").lower()\n",
    "\n",
    "    if type == \"yes\":\n",
    "        account.deposit(money)\n",
    "        account.get_balance() \n",
    "\n",
    "    else:\n",
    "        account.withdraw(money)\n",
    "        account.get_balance()\n",
    "\n",
    "main()\n",
    "\"\"\""
   ]
  },
  {
   "cell_type": "code",
   "execution_count": 11,
   "metadata": {},
   "outputs": [
    {
     "name": "stdout",
     "output_type": "stream",
     "text": [
      "your amount is not valida \n",
      "-500.0\n"
     ]
    }
   ],
   "source": [
    "account = Bankacc()\n",
    "account.deposit(0)\n",
    "account.withdraw(500)\n",
    "account.get_balance()"
   ]
  },
  {
   "cell_type": "code",
   "execution_count": 13,
   "metadata": {},
   "outputs": [
    {
     "name": "stdout",
     "output_type": "stream",
     "text": [
      "Title: haary , Author : paul\n"
     ]
    }
   ],
   "source": [
    "class Book:\n",
    "    def __init__(self , title , author ):\n",
    "        self.__title = title\n",
    "        self.__author = author \n",
    "\n",
    "    def display_info(self):\n",
    "        print(f\"Title: {self.__title} , Author : {self.__author}\")\n",
    "\n",
    "\n",
    "\n",
    "\n",
    "b = Book(\"haary\" , \"paul\")\n",
    "b.display_info() \n",
    "        "
   ]
  },
  {
   "cell_type": "code",
   "execution_count": 8,
   "metadata": {},
   "outputs": [],
   "source": [
    "class Car:\n",
    "  def __init__(self):\n",
    "    self.__speed = 0\n",
    "\n",
    "  def inc_speed(self, speed):\n",
    "    self.__speed += speed\n",
    "\n",
    "  def dec_speed(self , speed):\n",
    "    self.__speed -= speed\n",
    "\n",
    "  def get_speed(self):\n",
    "    print(self.__speed)\n",
    "\n"
   ]
  },
  {
   "cell_type": "code",
   "execution_count": null,
   "metadata": {},
   "outputs": [],
   "source": [
    "speed = Car()\n",
    "speed.inc_speed(100)\n",
    "speed.dec_speed(5)\n",
    "speed.get_speed()\n"
   ]
  },
  {
   "cell_type": "code",
   "execution_count": null,
   "metadata": {},
   "outputs": [
    {
     "name": "stdout",
     "output_type": "stream",
     "text": [
      "Title: haary , Author : paul\n"
     ]
    }
   ],
   "source": []
  }
 ],
 "metadata": {
  "kernelspec": {
   "display_name": "Python 3",
   "language": "python",
   "name": "python3"
  },
  "language_info": {
   "codemirror_mode": {
    "name": "ipython",
    "version": 3
   },
   "file_extension": ".py",
   "mimetype": "text/x-python",
   "name": "python",
   "nbconvert_exporter": "python",
   "pygments_lexer": "ipython3",
   "version": "3.12.4"
  }
 },
 "nbformat": 4,
 "nbformat_minor": 2
}
