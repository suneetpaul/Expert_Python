{
 "cells": [
  {
   "cell_type": "code",
   "execution_count": 3,
   "metadata": {},
   "outputs": [
    {
     "name": "stdout",
     "output_type": "stream",
     "text": [
      "mg zs\n",
      "75kwh\n",
      "suzuki 14\n"
     ]
    }
   ],
   "source": [
    "class car:\n",
    "    def __init__(self , brand , model):\n",
    "        self.brand = brand\n",
    "        self.model = model\n",
    "\n",
    "class ElectricCar(car):\n",
    "    def __init__(self , brand , model , battery_size):\n",
    "        super().__init__(brand , model)\n",
    "        self.battery_size = battery_size\n",
    "\n",
    "class dieselCar(car):\n",
    "    def __init__(self , brand , model , diesel_tank):\n",
    "        super().__init__(brand , model)\n",
    "        self.diesel_tank = diesel_tank\n",
    "\n",
    "class PetrolCar(car):\n",
    "    def __init__(self , brand , model , petrol_size):\n",
    "        super().__init__(brand , model)\n",
    "        self.petrol_size = petrol_size\n",
    "\n",
    "\n",
    "my_car1 = ElectricCar(\"mg\" , \"zs\" , \"75kwh\")\n",
    "print(my_car1.brand , my_car1.model)\n",
    "print(my_car1.battery_size)\n",
    "\n",
    "car2 = dieselCar(\"suzuki\" , \"swift\" , 14)\n",
    "print(car2.brand , car2.diesel_tank)\n",
    "\n",
    "\n"
   ]
  },
  {
   "cell_type": "code",
   "execution_count": 4,
   "metadata": {},
   "outputs": [
    {
     "name": "stdout",
     "output_type": "stream",
     "text": [
      "acer 13 gen windows\n"
     ]
    }
   ],
   "source": [
    "class computer:\n",
    "    def __init__(self , device , os):\n",
    "        self.device = device\n",
    "        self.os = os\n",
    "\n",
    "class laptop(computer):\n",
    "    def __init__(self , device , os , gen):\n",
    "        super().__init__(device , os)\n",
    "        self.gen = gen\n",
    "\n",
    "s = laptop(\"acer\",\"windows\",\"13 gen\")\n",
    "print(s.device , s.gen , s.os)"
   ]
  },
  {
   "cell_type": "code",
   "execution_count": 5,
   "metadata": {},
   "outputs": [
    {
     "name": "stdout",
     "output_type": "stream",
     "text": [
      "narzo10 andriod\n"
     ]
    }
   ],
   "source": [
    "class ElectronicDevice:\n",
    "    def __init__(self , company , device):\n",
    "        self.company = company\n",
    "        self.device = device\n",
    "\n",
    "class Smartphone(ElectronicDevice):\n",
    "    def __init__(self , company , device , storage ):\n",
    "        super().__init__(company , device)\n",
    "        self.storage = storage\n",
    "\n",
    "class Operating_system(Smartphone):\n",
    "    def __init__(self , company , device , storage , os):\n",
    "        super().__init__(company , device , storage)\n",
    "        self.os = os \n",
    "\n",
    "\n",
    "s = Operating_system( \"realme\" , \"narzo10\" , 128 , \"andriod\" )\n",
    "print(s.device , s.os)"
   ]
  },
  {
   "cell_type": "code",
   "execution_count": 6,
   "metadata": {},
   "outputs": [
    {
     "name": "stdout",
     "output_type": "stream",
     "text": [
      "dard pattharon ko , classic , sanjay leela bhansali \n"
     ]
    }
   ],
   "source": [
    "class Musician :\n",
    "  def __init__(self,song,genre):\n",
    "    self.song = song\n",
    "    self.genre = genre\n",
    "\n",
    "class Artist(Musician):\n",
    "  def __init__(self,song,genre,artist_name):\n",
    "    super().__init__(song,genre)\n",
    "    self.artist_name = artist_name\n",
    "\n",
    "\n",
    "s = Artist(\"dard pattharon ko \",\" classic \",\" sanjay leela bhansali \")\n",
    "print(f\"{s.song},{s.genre},{s.artist_name}\")"
   ]
  },
  {
   "cell_type": "code",
   "execution_count": 7,
   "metadata": {},
   "outputs": [
    {
     "name": "stdout",
     "output_type": "stream",
     "text": [
      "The Alchemist\n"
     ]
    }
   ],
   "source": [
    "class Books:\n",
    "  def __init__(self,name,author):\n",
    "    self.name = name\n",
    "    self.author = author\n",
    "\n",
    "class Fiction(Books):\n",
    "  def __init__(self,name,author,genre):\n",
    "    super().__init__(name,author)\n",
    "    self.genre = genre\n",
    "    \n",
    "b1=Fiction(\"The Alchemist\" , \"Paulo Coelho\" , \"adventure\")\n",
    "\n",
    "print(b1.name)"
   ]
  },
  {
   "cell_type": "code",
   "execution_count": 8,
   "metadata": {},
   "outputs": [
    {
     "name": "stdout",
     "output_type": "stream",
     "text": [
      "Aman [87, 34, 56]\n",
      "totalmarks=>177 and their avg is 59.0\n"
     ]
    }
   ],
   "source": [
    "\n",
    "class student:\n",
    "    def __init__(self,name,marks):\n",
    "        self.name=name\n",
    "        self.marks=marks\n",
    "\n",
    "\n",
    "a1=student(\"Aman\",[87,34,56])\n",
    "print(a1.name,a1.marks)\n",
    "\n",
    "marks=sum(a1.marks)\n",
    "\n",
    "length=len(a1.marks)\n",
    "\n",
    "average=marks/length\n",
    "\n",
    "print(f\"totalmarks=>{marks} and their avg is {average}\")"
   ]
  },
  {
   "cell_type": "code",
   "execution_count": 9,
   "metadata": {},
   "outputs": [
    {
     "name": "stdout",
     "output_type": "stream",
     "text": [
      "Aman 87 34 56\n",
      "totalmarks=>177 and their avg is 59.0\n"
     ]
    }
   ],
   "source": [
    "class student:\n",
    "    def __init__(self,name,marks1,marks2,marks3):\n",
    "        self.name=name\n",
    "        self.marks1=marks1\n",
    "        self.marks2=marks2\n",
    "        self.marks3=marks3\n",
    "        \n",
    "a1=student(\"Aman\",87,34,56)\n",
    "\n",
    "print(a1.name,a1.marks1,a1.marks2,a1.marks3)\n",
    "\n",
    "marks=a1.marks1+a1.marks2+a1.marks3\n",
    "\n",
    "avg=marks/3\n",
    "print(f\"totalmarks=>{marks} and their avg is {avg}\")"
   ]
  }
 ],
 "metadata": {
  "kernelspec": {
   "display_name": "Python 3",
   "language": "python",
   "name": "python3"
  },
  "language_info": {
   "codemirror_mode": {
    "name": "ipython",
    "version": 3
   },
   "file_extension": ".py",
   "mimetype": "text/x-python",
   "name": "python",
   "nbconvert_exporter": "python",
   "pygments_lexer": "ipython3",
   "version": "3.12.4"
  }
 },
 "nbformat": 4,
 "nbformat_minor": 2
}
